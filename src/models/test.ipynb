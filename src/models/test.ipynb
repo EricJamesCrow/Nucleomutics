{
 "cells": [
  {
   "cell_type": "code",
   "execution_count": null,
   "metadata": {},
   "outputs": [],
   "source": [
    "# adjust dyad position +/- 500\n",
    "import General\n",
    "from pathlib import Path\n",
    "\n",
    "General.adjust_dyad_positions(\n",
    "    dyad_file=Path('/media/cam/Data9/CortezAnalysis/Cam_calls/nucleosome_stuff/dyads.bed')\n",
    ")"
   ]
  },
  {
   "cell_type": "code",
   "execution_count": null,
   "metadata": {},
   "outputs": [],
   "source": [
    "# getfasta ran on the dyads to get the context\n",
    "import BedtoolsCommands\n",
    "from pathlib import Path\n",
    "terminal_out, file_location = BedtoolsCommands.bedtools_getfasta(\n",
    "    bed_file=Path('/media/cam/Data9/CortezAnalysis/Cam_calls/nucleosome_stuff/dyads_plus-minus_1000.bed'),\n",
    "    fasta_file=Path('/media/cam/Data9/CortezAnalysis/pipeline_files/hg19.fa')\n",
    ")\n",
    "print(terminal_out)"
   ]
  },
  {
   "cell_type": "code",
   "execution_count": null,
   "metadata": {},
   "outputs": [],
   "source": [
    "# filter lines with 'N'\n",
    "import General\n",
    "from pathlib import Path\n",
    "\n",
    "General.filter_lines_with_n(\n",
    "    dyad_fasta = Path('/media/cam/Data9/CortezAnalysis/Cam_calls/nucleosome_stuff/dyads_plus-minus_1000_hg19_fasta.fa'),\n",
    "    dyad_bed=Path('/media/cam/Data9/CortezAnalysis/Cam_calls/nucleosome_stuff/dyads.bed')\n",
    ")\n"
   ]
  },
  {
   "cell_type": "code",
   "execution_count": null,
   "metadata": {},
   "outputs": [],
   "source": [
    "import General\n",
    "from pathlib import Path\n",
    "\n",
    "General.filter_acceptable_chromosomes(\n",
    "    Path('/media/cam/Data9/CortezAnalysis/Cam_calls/nucleosome_stuff/dyads_plus-minus_1000_filtered.bed'),\n",
    "    genome = 'human'\n",
    "    )"
   ]
  },
  {
   "cell_type": "code",
   "execution_count": null,
   "metadata": {},
   "outputs": [],
   "source": [
    "# use linux to sort a file based on the first 3 and sixth column\n",
    "import General\n",
    "from pathlib import Path\n",
    "General.check_and_sort(Path('/media/cam/Data9/CortezAnalysis/Cam_calls/nucleosome_stuff/dyads_filtered.bed'))\n",
    "# General.check_and_sort(Path('/media/cam/Data9/CortezAnalysis/Cam_calls/Analysis/vcf_files/concat/KM_treated_filtered.bed'))"
   ]
  },
  {
   "cell_type": "code",
   "execution_count": null,
   "metadata": {},
   "outputs": [],
   "source": [
    "# counts all the different positions in the dyad file\n",
    "import multiprocessing as mp\n",
    "import Statistics\n",
    "from pathlib import Path\n",
    "\n",
    "if __name__ == '__main__':\n",
    "    mp.freeze_support()\n",
    "    fasta_counter = Statistics.DyadFastaCounter(\n",
    "        Path('/media/cam/Data9/CortezAnalysis/Cam_calls/nucleosome_stuff/dyads_plus-minus_1000_hg19_fasta_filtered.fa')\n",
    "        )"
   ]
  },
  {
   "cell_type": "code",
   "execution_count": null,
   "metadata": {},
   "outputs": [],
   "source": [
    "# counts all the different positions in the dyad file\n",
    "import multiprocessing as mp\n",
    "import Statistics\n",
    "from pathlib import Path\n",
    "\n",
    "if __name__ == '__main__':\n",
    "    mp.freeze_support()\n",
    "    fasta_counter = Statistics.MutationIntersector(\n",
    "        mutation_file = Path('/media/cam/Data9/CortezAnalysis/Cam_calls/8-oxo-G_Mapping_Data/split-reads/joined_bed/SRR_67-68_sorted_sorted.bed'),\n",
    "        dyad_file = Path('/media/cam/Data9/CortezAnalysis/Cam_calls/nucleosome_stuff/dyads_files/dyads_plus-minus_1000_filtered_sorted.bed')\n",
    "    )"
   ]
  },
  {
   "cell_type": "code",
   "execution_count": null,
   "metadata": {},
   "outputs": [],
   "source": [
    "import General\n",
    "from pathlib import Path\n",
    "General.vcf_snp_to_intermediate_bed(Path('/media/cam/Data9/CortezAnalysis/Cam_calls/Analysis/vcf_files/concat/KM_treated.vcf'))\n",
    "General.expand_context_custom_bed(Path('/media/cam/Data9/CortezAnalysis/Cam_calls/Analysis/vcf_files/concat/KM_treated.tmp'),\n",
    "Path('/media/cam/Data9/CortezAnalysis/pipeline_files/hg19.fa'))"
   ]
  },
  {
   "cell_type": "code",
   "execution_count": null,
   "metadata": {},
   "outputs": [],
   "source": [
    "from threading import *\n",
    "import multiprocessing as mp\n",
    "import Statistics\n",
    "from pathlib import Path\n",
    "class StartUp(Thread):\n",
    "    def __init__(self):\n",
    "        super(StartUp, self).__init__()\n",
    "    def run(self):\n",
    "        fasta_counter = Statistics.MutationIntersector(\n",
    "            mutation_file = Path('/media/cam/Data9/CortezAnalysis/Cam_calls/Analysis/vcf_files/concat/KM_treated_filtered_sorted.bed'),\n",
    "            dyad_file = Path('/media/cam/Data9/CortezAnalysis/Cam_calls/nucleosome_stuff/dyads_files/dyads_plus-minus_1000_filtered_sorted.bed')\n",
    "        )\n",
    "\n",
    "test = StartUp()\n",
    "test.start()"
   ]
  },
  {
   "cell_type": "code",
   "execution_count": null,
   "metadata": {},
   "outputs": [],
   "source": [
    "with open('/media/cam/Data9/CortezAnalysis/Cam_calls/8-oxo-G_Mapping_Data/split-reads/joined_bed/SRR_69-70_sorted.bed') as f:\n",
    "    with open('/media/cam/Data9/CortezAnalysis/Cam_calls/8-oxo-G_Mapping_Data/split-reads/joined_bed/SRR_69-70_adjusted.bed', 'w') as o:\n",
    "        for line in f:\n",
    "            tsv = line.strip().split('\\t')\n",
    "            new_line = f'{tsv[0]}\\t{str(int(tsv[1])+1)}\\t{str(int(tsv[2])-1)}\\t{tsv[3]}\\t{tsv[4]}\\t{tsv[5]}\\t{tsv[6]}\\n'\n",
    "            o.write(new_line)"
   ]
  },
  {
   "cell_type": "code",
   "execution_count": null,
   "metadata": {},
   "outputs": [],
   "source": [
    "with open('/home/cam/Documents/UV_Data/MELA-AU_trinuc_context_mutations.bed') as f:\n",
    "    with open('/home/cam/Documents/UV_Data/MELA-AU_trinuc_context_mutations.bed6', 'w') as o:\n",
    "        for line in f:\n",
    "            tsv = line.strip().split('\\t')\n",
    "            new_line = f'{tsv[0]}\\t{tsv[1]}\\t{tsv[2]}\\t.\\t0\\t{tsv[5]}\\t{tsv[3]}\\t{tsv[4]}\\n'\n",
    "            o.write(new_line)"
   ]
  },
  {
   "cell_type": "code",
   "execution_count": null,
   "metadata": {},
   "outputs": [],
   "source": [
    "import Tools\n",
    "import pandas as pd\n",
    "with open('/media/cam/Data9/CortezAnalysis/Cam_calls/nucleosome_stuff/64-66_intersect.txt') as intersect:\n",
    "    context_list = Tools.contexts_in_iupac('NNN')\n",
    "    counts = {i: {key: 0 for key in context_list} for i in range(-1000,1001)}\n",
    "    for line in intersect:\n",
    "        tsv = line.strip().split('\\t')\n",
    "        bed_start = int(tsv[1])\n",
    "        bed_end = int(tsv[2])\n",
    "        dyad = int((int(tsv[8])+int(tsv[9]))/2)\n",
    "        context = tsv[6]\n",
    "        position = bed_start-dyad\n",
    "        if position in [-1001, 1001]: continue\n",
    "        counts[position][context] += 1\n",
    "    df = pd.DataFrame.from_dict(counts, orient='index')\n",
    "    df.columns = context_list\n",
    "    df.index.name = 'Position'\n",
    "    df.to_csv('64-66_counts.txt', sep='\\t')"
   ]
  }
 ],
 "metadata": {
  "kernelspec": {
   "display_name": "Python 3",
   "language": "python",
   "name": "python3"
  },
  "language_info": {
   "codemirror_mode": {
    "name": "ipython",
    "version": 3
   },
   "file_extension": ".py",
   "mimetype": "text/x-python",
   "name": "python",
   "nbconvert_exporter": "python",
   "pygments_lexer": "ipython3",
   "version": "3.10.6"
  },
  "orig_nbformat": 4,
  "vscode": {
   "interpreter": {
    "hash": "916dbcbb3f70747c44a77c7bcd40155683ae19c65e1c03b4aa3499c5328201f1"
   }
  }
 },
 "nbformat": 4,
 "nbformat_minor": 2
}
