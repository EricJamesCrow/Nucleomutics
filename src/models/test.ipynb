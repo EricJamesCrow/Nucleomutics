{
 "cells": [
  {
   "cell_type": "code",
   "execution_count": null,
   "metadata": {},
   "outputs": [],
   "source": [
    "# adjust dyad position +/- 500\n",
    "import General\n",
    "from pathlib import Path\n",
    "\n",
    "General.adjust_dyad_positions(\n",
    "    dyad_file=Path('/media/cam/Data9/CortezAnalysis/Cam_calls/nucleosome_stuff/dyads.bed')\n",
    ")"
   ]
  },
  {
   "cell_type": "code",
   "execution_count": null,
   "metadata": {},
   "outputs": [],
   "source": [
    "# getfasta ran on the dyads to get the context\n",
    "import BedtoolsCommands\n",
    "from pathlib import Path\n",
    "terminal_out, file_location = BedtoolsCommands.bedtools_getfasta(\n",
    "    dyad_file=Path('/media/cam/Data9/CortezAnalysis/Cam_calls/nucleosome_stuff/dyads_files/dyads_plus-minus_1000.bed'),\n",
    "    fasta_file=Path('/media/cam/Data9/CortezAnalysis/pipeline_files/hg19.fa')\n",
    ")\n",
    "print(terminal_out)"
   ]
  },
  {
   "cell_type": "code",
   "execution_count": null,
   "metadata": {},
   "outputs": [],
   "source": [
    "import General\n",
    "from pathlib import Path\n",
    "\n",
    "General.filter_lines_with_n(\n",
    "    dyad_fasta = Path('/media/cam/Data9/CortezAnalysis/Cam_calls/nucleosome_stuff/dyads_files/dyads_plus-minus_1000_hg19_fasta.fa'),\n",
    "    dyad_bed=Path('/media/cam/Data9/CortezAnalysis/Cam_calls/nucleosome_stuff/dyads_files/dyads_plus-minus_1000.bed')\n",
    ")\n"
   ]
  },
  {
   "cell_type": "code",
   "execution_count": null,
   "metadata": {},
   "outputs": [],
   "source": [
    "import General\n",
    "from pathlib import Path\n",
    "\n",
    "General.filter_acceptable_chromosomes(\n",
    "    Path('/home/cam/Documents/UV_Data/MELA-AU_trinuc_context_mutations_sorted.bed6'),\n",
    "    genome = 'human'\n",
    "    )"
   ]
  },
  {
   "cell_type": "code",
   "execution_count": null,
   "metadata": {},
   "outputs": [],
   "source": [
    "# use linux to sort a file based on the first 3 and sixth column\n",
    "import General\n",
    "from pathlib import Path\n",
    "# General.check_and_sort(Path('/media/cam/Data9/CortezAnalysis/Cam_calls/8-oxo-G_Mapping_Data/split-reads/joined_bed/SRR_67-68_sorted.bed'))\n",
    "General.check_and_sort(Path('/home/cam/Documents/UV_Data/MELA-AU_trinuc_context_mutations.bed6'))"
   ]
  },
  {
   "cell_type": "code",
   "execution_count": 11,
   "metadata": {},
   "outputs": [
    {
     "name": "stdout",
     "output_type": "stream",
     "text": [
      "['chr10\\t100004320\\t100006323\\t8.0\\t0.033628163164143215\\t3\\n', 'chr11\\t100229405\\t100231408\\t3.0\\t0.04764854822221482\\t0\\n', 'chr12\\t10002780\\t10004783\\t8.0\\t0.05625511750049174\\t1\\n', 'chr13\\t100038396\\t100040399\\t3.0\\t0.0331915313655316\\t1\\n', 'chr14\\t100069988\\t100071991\\t14.0\\t0.0629162385720384\\t0\\n', 'chr15\\t100001090\\t100003093\\t1.0\\t0.04352866597388883\\t3\\n', 'chr16\\t10276212\\t10278215\\t5.0\\t0.04470173003087852\\t0\\n', 'chr17\\t10101541\\t10103544\\t4.0\\t0.0257708314135761\\t7\\n', 'chr18\\t1000074\\t1002077\\t2.0\\t0.02402433871548347\\t0\\n', 'chr19\\t10046820\\t10048823\\t2.0\\t0.048608441640192235\\t0\\n', 'chr2\\t100106172\\t100108175\\t4.0\\t0.04468295036342263\\t0\\n', 'chr20\\t1000137\\t1002140\\t2.0\\t0.022879738282492658\\t3\\n', 'chr21\\t10772758\\t10774761\\t3.0\\t0.010472014177624769\\t2\\n', 'chr22\\t17252286\\t17254289\\t1.0\\t0.03502352706996674\\t1\\n', 'chr3\\t10000225\\t10002228\\t6.0\\t0.013780765506055273\\t24\\n', 'chr4\\t100010157\\t100012160\\t1.0\\t0.03645822847723712\\t0\\n', 'chr5\\t100000000\\t100002003\\t5.0\\t0.02813856363708612\\t3\\n', 'chr6\\t1000164\\t1002167\\t6.0\\t0.02756852976001481\\t0\\n', 'chr7\\t10000055\\t10002058\\t2.0\\t0.01810818265548202\\t2\\n', 'chr8\\t100000175\\t100002178\\t1.0\\t0.07291645695618904\\t0\\n', 'chr9\\t1000297\\t1002300\\t1.0\\t0.00683884964975167\\t0\\n', 'chrX\\t100000114\\t100002117\\t5.0\\t0.04933025044049542\\t1\\n', '']\n"
     ]
    }
   ],
   "source": [
    "with open('/media/cam/Data9/CortezAnalysis/Cam_calls/nucleosome_stuff/dyads_files/dyads_plus-minus_1000_filtered_sorted.bed') as f:\n",
    "    positions = [13662263, 21989517, 30229255, 38115320, 46657505, 52708138, 56961099, 61446815, 64804010, 70966267, 72410197, 89831364, 93844188, 96338897, 97767125, 110130766, 124871869, 138557646, 150686382, 159301451, 169712105, 177291280, 186138452]\n",
    "    lines = []\n",
    "    for pos in positions:\n",
    "        f.seek(pos)\n",
    "        lines.append(f.readline())\n",
    "    print(lines)"
   ]
  },
  {
   "cell_type": "code",
   "execution_count": null,
   "metadata": {},
   "outputs": [],
   "source": [
    "# counts all the different positions in the dyad file\n",
    "import multiprocessing as mp\n",
    "import Statistics\n",
    "from pathlib import Path\n",
    "\n",
    "if __name__ == '__main__':\n",
    "    mp.freeze_support()\n",
    "    fasta_counter = Statistics.DyadFastaCounter(\n",
    "        Path('/media/cam/Data9/CortezAnalysis/Cam_calls/nucleosome_stuff/dyads_files/dyads_plus-minus_1000_hg19_fasta_filtered.fa')\n",
    "        )"
   ]
  },
  {
   "cell_type": "code",
   "execution_count": null,
   "metadata": {},
   "outputs": [],
   "source": [
    "# counts all the different positions in the dyad file\n",
    "import multiprocessing as mp\n",
    "import Statistics\n",
    "from pathlib import Path\n",
    "\n",
    "if __name__ == '__main__':\n",
    "    mp.freeze_support()\n",
    "    fasta_counter = Statistics.MutationIntersector(\n",
    "        mutation_file = Path('/media/cam/Data9/CortezAnalysis/Cam_calls/8-oxo-G_Mapping_Data/split-reads/joined_bed/SRR_67-68_sorted_sorted.bed'),\n",
    "        dyad_file = Path('/media/cam/Data9/CortezAnalysis/Cam_calls/nucleosome_stuff/dyads_files/dyads_plus-minus_1000_filtered_sorted.bed')\n",
    "    )"
   ]
  },
  {
   "cell_type": "code",
   "execution_count": null,
   "metadata": {},
   "outputs": [],
   "source": [
    "import Statistics\n",
    "from pathlib import Path\n",
    "import pandas as pd\n",
    "df = Statistics.df_division_and_standardization(\n",
    "    mutation_counts=Path('/media/cam/Data9/CortezAnalysis/Cam_calls/Analysis/vcf_files/concat/KM_treated_filtered_sorted_dyads_plus-minus_1000_filtered_sorted_intersected_mutations_counts.txt'),\n",
    "    dyad_counts=Path('/media/cam/Data9/CortezAnalysis/Cam_calls/nucleosome_stuff/dyads_files/dyads_plus-minus_1000_hg19_fasta_filtered_counts.txt')\n",
    ")\n",
    "df.to_csv('test.txt', sep='\\t', float_format='%.{}f'.format(4))"
   ]
  },
  {
   "cell_type": "code",
   "execution_count": null,
   "metadata": {},
   "outputs": [],
   "source": [
    "import General\n",
    "from pathlib import Path\n",
    "General.vcf_snp_to_intermediate_bed(Path('/media/cam/Data9/CortezAnalysis/Cam_calls/Analysis/vcf_files/concat/KM_treated.vcf'))\n",
    "General.expand_context_custom_bed(Path('/media/cam/Data9/CortezAnalysis/Cam_calls/Analysis/vcf_files/concat/KM_treated.tmp'),\n",
    "Path('/media/cam/Data9/CortezAnalysis/pipeline_files/hg19.fa'))"
   ]
  },
  {
   "cell_type": "code",
   "execution_count": null,
   "metadata": {},
   "outputs": [],
   "source": [
    "from threading import *\n",
    "import multiprocessing as mp\n",
    "import Statistics\n",
    "from pathlib import Path\n",
    "class StartUp(Thread):\n",
    "    def __init__(self):\n",
    "        super(StartUp, self).__init__()\n",
    "    def run(self):\n",
    "        fasta_counter = Statistics.MutationIntersector(\n",
    "            mutation_file = Path('/media/cam/Data9/CortezAnalysis/Cam_calls/Analysis/vcf_files/concat/KM_treated_filtered_sorted.bed'),\n",
    "            dyad_file = Path('/media/cam/Data9/CortezAnalysis/Cam_calls/nucleosome_stuff/dyads_files/dyads_plus-minus_1000_filtered_sorted.bed')\n",
    "        )\n",
    "\n",
    "test = StartUp()\n",
    "test.start()"
   ]
  },
  {
   "cell_type": "code",
   "execution_count": null,
   "metadata": {},
   "outputs": [],
   "source": [
    "with open('/media/cam/Data9/CortezAnalysis/Cam_calls/8-oxo-G_Mapping_Data/split-reads/joined_bed/SRR_64-65-66_sorted_sorted_filtered.bed') as f:\n",
    "    with open('/media/cam/Data9/CortezAnalysis/Cam_calls/8-oxo-G_Mapping_Data/split-reads/joined_bed/SRR_64-65-66_sorted_sorted_filtered_adjusted.bed', 'w') as o:\n",
    "        for line in f:\n",
    "            tsv = line.strip().split('\\t')\n",
    "            new_line = f'{tsv[0]}\\t{str(int(tsv[1])+1)}\\t{str(int(tsv[2])-1)}\\t{tsv[3]}\\t{tsv[4]}\\t{tsv[5]}\\t{tsv[6]}\\n'\n",
    "            o.write(new_line)"
   ]
  },
  {
   "cell_type": "code",
   "execution_count": null,
   "metadata": {},
   "outputs": [],
   "source": [
    "with open('/home/cam/Documents/UV_Data/MELA-AU_trinuc_context_mutations.bed') as f:\n",
    "    with open('/home/cam/Documents/UV_Data/MELA-AU_trinuc_context_mutations.bed6', 'w') as o:\n",
    "        for line in f:\n",
    "            tsv = line.strip().split('\\t')\n",
    "            new_line = f'{tsv[0]}\\t{tsv[1]}\\t{tsv[2]}\\t.\\t0\\t{tsv[5]}\\t{tsv[3]}\\t{tsv[4]}\\n'\n",
    "            o.write(new_line)"
   ]
  }
 ],
 "metadata": {
  "kernelspec": {
   "display_name": "Python 3",
   "language": "python",
   "name": "python3"
  },
  "language_info": {
   "codemirror_mode": {
    "name": "ipython",
    "version": 3
   },
   "file_extension": ".py",
   "mimetype": "text/x-python",
   "name": "python",
   "nbconvert_exporter": "python",
   "pygments_lexer": "ipython3",
   "version": "3.10.6"
  },
  "orig_nbformat": 4,
  "vscode": {
   "interpreter": {
    "hash": "916dbcbb3f70747c44a77c7bcd40155683ae19c65e1c03b4aa3499c5328201f1"
   }
  }
 },
 "nbformat": 4,
 "nbformat_minor": 2
}
