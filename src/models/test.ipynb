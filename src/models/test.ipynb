{
 "cells": [
  {
   "cell_type": "code",
   "execution_count": null,
   "metadata": {},
   "outputs": [],
   "source": [
    "# adjust dyad position +/- 500\n",
    "import General\n",
    "from pathlib import Path\n",
    "\n",
    "General.adjust_dyad_positions(\n",
    "    dyad_file=Path('/media/cam/Data9/CortezAnalysis/Cam_calls/nucleosome_stuff/dyads.bed')\n",
    ")"
   ]
  },
  {
   "cell_type": "code",
   "execution_count": null,
   "metadata": {},
   "outputs": [],
   "source": [
    "# getfasta ran on the dyads to get the context\n",
    "import BedtoolsCommands\n",
    "from pathlib import Path\n",
    "terminal_out, file_location = BedtoolsCommands.bedtools_getfasta(\n",
    "    dyad_file=Path('/media/cam/Data9/CortezAnalysis/Cam_calls/nucleosome_stuff/dyads_files/dyads_plus-minus_1000.bed'),\n",
    "    fasta_file=Path('/media/cam/Data9/CortezAnalysis/pipeline_files/hg19.fa')\n",
    ")\n",
    "print(terminal_out)"
   ]
  },
  {
   "cell_type": "code",
   "execution_count": null,
   "metadata": {},
   "outputs": [],
   "source": [
    "import General\n",
    "from pathlib import Path\n",
    "\n",
    "General.filter_lines_with_n(\n",
    "    dyad_fasta = Path('/media/cam/Data9/CortezAnalysis/Cam_calls/nucleosome_stuff/dyads_files/dyads_plus-minus_1000_hg19_fasta.fa'),\n",
    "    dyad_bed=Path('/media/cam/Data9/CortezAnalysis/Cam_calls/nucleosome_stuff/dyads_files/dyads_plus-minus_1000.bed')\n",
    ")\n"
   ]
  },
  {
   "cell_type": "code",
   "execution_count": null,
   "metadata": {},
   "outputs": [],
   "source": [
    "import General\n",
    "from pathlib import Path\n",
    "\n",
    "General.filter_acceptable_chromosomes(\n",
    "    Path('/media/cam/Data9/CortezAnalysis/Cam_calls/Analysis/vcf_files/concat/KM_treated.bed'),\n",
    "    genome = 'human'\n",
    "    )"
   ]
  },
  {
   "cell_type": "code",
   "execution_count": null,
   "metadata": {},
   "outputs": [],
   "source": [
    "# use linux to sort a file based on the first 3 and sixth column\n",
    "import General\n",
    "from pathlib import Path\n",
    "# General.check_and_sort(Path('/media/cam/Data9/CortezAnalysis/Cam_calls/8-oxo-G_Mapping_Data/split-reads/joined_bed/SRR_67-68_sorted.bed'))\n",
    "General.check_and_sort(Path('/media/cam/Data9/CortezAnalysis/Cam_calls/Analysis/vcf_files/concat/KM_treated_filtered.bed'))"
   ]
  },
  {
   "cell_type": "code",
   "execution_count": null,
   "metadata": {},
   "outputs": [],
   "source": [
    "# counts all the different positions in the dyad file\n",
    "import multiprocessing as mp\n",
    "import Statistics\n",
    "from pathlib import Path\n",
    "\n",
    "if __name__ == '__main__':\n",
    "    mp.freeze_support()\n",
    "    fasta_counter = Statistics.DyadFastaCounter(\n",
    "        Path('/media/cam/Data9/CortezAnalysis/Cam_calls/nucleosome_stuff/dyads_files/dyads_plus-minus_1000_hg19_fasta_filtered.fa')\n",
    "        )"
   ]
  },
  {
   "cell_type": "code",
   "execution_count": null,
   "metadata": {},
   "outputs": [],
   "source": [
    "# counts all the different positions in the dyad file\n",
    "import multiprocessing as mp\n",
    "import Statistics\n",
    "from pathlib import Path\n",
    "\n",
    "if __name__ == '__main__':\n",
    "    mp.freeze_support()\n",
    "    fasta_counter = Statistics.MutationIntersector(\n",
    "        mutation_file = Path('/media/cam/Data9/CortezAnalysis/Cam_calls/8-oxo-G_Mapping_Data/split-reads/joined_bed/SRR_67-68_sorted_sorted.bed'),\n",
    "        dyad_file = Path('/media/cam/Data9/CortezAnalysis/Cam_calls/nucleosome_stuff/dyads_files/dyads_plus-minus_1000_filtered_sorted.bed')\n",
    "    )"
   ]
  },
  {
   "cell_type": "code",
   "execution_count": null,
   "metadata": {},
   "outputs": [],
   "source": [
    "import Statistics\n",
    "from pathlib import Path\n",
    "import pandas as pd\n",
    "df = Statistics.df_division_and_standardization(\n",
    "    mutation_counts=Path('/media/cam/Data9/CortezAnalysis/Cam_calls/Analysis/vcf_files/concat/KM_treated_filtered_sorted_dyads_plus-minus_1000_filtered_sorted_intersected_mutations_counts.txt'),\n",
    "    dyad_counts=Path('/media/cam/Data9/CortezAnalysis/Cam_calls/nucleosome_stuff/dyads_files/dyads_plus-minus_1000_hg19_fasta_filtered_counts.txt')\n",
    ")\n",
    "df.to_csv('test.txt', sep='\\t', float_format='%.{}f'.format(4))"
   ]
  },
  {
   "cell_type": "code",
   "execution_count": null,
   "metadata": {},
   "outputs": [],
   "source": [
    "import General\n",
    "from pathlib import Path\n",
    "General.vcf_snp_to_intermediate_bed(Path('/media/cam/Data9/CortezAnalysis/Cam_calls/Analysis/vcf_files/concat/KM_treated.vcf'))\n",
    "General.expand_context_custom_bed(Path('/media/cam/Data9/CortezAnalysis/Cam_calls/Analysis/vcf_files/concat/KM_treated.tmp'),\n",
    "Path('/media/cam/Data9/CortezAnalysis/pipeline_files/hg19.fa'))"
   ]
  },
  {
   "cell_type": "code",
   "execution_count": null,
   "metadata": {},
   "outputs": [
    {
     "name": "stdout",
     "output_type": "stream",
     "text": [
      "Pre-processed dyad file. 14.27533769607544 seconds\n",
      "Pre-processed mutation file. 1.5969126224517822 seconds\n",
      "Processed block chr19 0.8415999412536621 seconds\n",
      "ERROR! Files are not on the same chromosome chr12 chr11\n",
      "Processed block Processed blockchr15  1.9707555770874023 Processed blockchr17seconds\n",
      " chr11  1.9544329643249512 seconds\n",
      "2.0438926219940186 seconds\n",
      "Processed block chr16 2.5949547290802 seconds\n",
      "Processed block chr22 0.8618838787078857 seconds\n",
      "Processed block chr14 3.1532106399536133 seconds\n",
      "Processed block chr20 2.370995283126831Processed block  chr18 3.4964044094085693 seconds\n",
      "seconds\n",
      "Processed block chr21 1.5055830478668213 seconds\n",
      "Processed blockProcessed block chr12 4.048130989074707 seconds \n",
      "chr13 4.037590742111206 seconds\n",
      "Processed block chr10 4.327763795852661 seconds\n",
      "Processed block chrX 2.3536126613616943 seconds\n",
      "Processed block chr1 7.138576030731201 seconds\n",
      "Processed block chr9 3.567755937576294 seconds\n",
      "Processed block chr7 3.9456980228424072 seconds\n",
      "Processed block chr2 7.977869033813477 seconds\n",
      "Processed block chr3 5.963310480117798 seconds\n",
      "Processed block chr8 4.89762806892395 seconds\n",
      "Processed block chr6 5.439011096954346 seconds\n",
      "Processed block chr5 5.604668855667114 seconds\n",
      "Processed block chr4 6.681165456771851 seconds\n",
      "Overall time: -26.096097230911255 seconds\n"
     ]
    }
   ],
   "source": [
    "from threading import *\n",
    "import multiprocessing as mp\n",
    "import Statistics\n",
    "from pathlib import Path\n",
    "class StartUp(Thread):\n",
    "    def __init__(self):\n",
    "        super(StartUp, self).__init__()\n",
    "    def run(self):\n",
    "        fasta_counter = Statistics.MutationIntersector(\n",
    "            mutation_file = Path('/media/cam/Data9/CortezAnalysis/Cam_calls/Analysis/vcf_files/concat/KM_treated_filtered_sorted.bed'),\n",
    "            dyad_file = Path('/media/cam/Data9/CortezAnalysis/Cam_calls/nucleosome_stuff/dyads_files/dyads_plus-minus_1000_filtered_sorted.bed')\n",
    "        )\n",
    "\n",
    "test = StartUp()\n",
    "test.start()"
   ]
  }
 ],
 "metadata": {
  "kernelspec": {
   "display_name": "Python 3",
   "language": "python",
   "name": "python3"
  },
  "language_info": {
   "codemirror_mode": {
    "name": "ipython",
    "version": 3
   },
   "file_extension": ".py",
   "mimetype": "text/x-python",
   "name": "python",
   "nbconvert_exporter": "python",
   "pygments_lexer": "ipython3",
   "version": "3.10.6"
  },
  "orig_nbformat": 4,
  "vscode": {
   "interpreter": {
    "hash": "916dbcbb3f70747c44a77c7bcd40155683ae19c65e1c03b4aa3499c5328201f1"
   }
  }
 },
 "nbformat": 4,
 "nbformat_minor": 2
}
