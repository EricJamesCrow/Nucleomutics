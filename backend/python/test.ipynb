{
 "cells": [
  {
   "cell_type": "code",
   "execution_count": null,
   "metadata": {},
   "outputs": [],
   "source": [
    "import Controller\n",
    "from pathlib import Path\n",
    "exists = (Controller.check_if_pre_processed(\n",
    "    file_path = Path('/media/cam/Data9/CortezAnalysis/test_files_nucleo/KM_treated.vcf'),\n",
    "    typ = 'mutation'\n",
    "    ))\n",
    "if not exists:\n",
    "    print(Controller.pre_process_mutation_file(\n",
    "        file_path=Path('/media/cam/Data9/CortezAnalysis/test_files_nucleo/KM_treated.vcf'),\n",
    "        fasta_file=Path('/media/cam/Data9/CortezAnalysis/pipeline_files/hg19.fa')\n",
    "    ))"
   ]
  }
 ],
 "metadata": {
  "kernelspec": {
   "display_name": "Python 3",
   "language": "python",
   "name": "python3"
  },
  "language_info": {
   "codemirror_mode": {
    "name": "ipython",
    "version": 3
   },
   "file_extension": ".py",
   "mimetype": "text/x-python",
   "name": "python",
   "nbconvert_exporter": "python",
   "pygments_lexer": "ipython3",
   "version": "3.10.6"
  },
  "orig_nbformat": 4,
  "vscode": {
   "interpreter": {
    "hash": "916dbcbb3f70747c44a77c7bcd40155683ae19c65e1c03b4aa3499c5328201f1"
   }
  }
 },
 "nbformat": 4,
 "nbformat_minor": 2
}
